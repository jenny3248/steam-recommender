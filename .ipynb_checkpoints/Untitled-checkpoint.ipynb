{
 "cells": [
  {
   "cell_type": "code",
   "execution_count": 1,
   "metadata": {},
   "outputs": [],
   "source": [
    "import requests, re, os\n",
    "import pandas as pd\n",
    "import numpy as np\n",
    "import yaml\n",
    "\n",
    "from bs4 import BeautifulSoup\n",
    "from sqlalchemy import create_engine\n",
    "\n",
    "from sklearn.feature_extraction.text import TfidfVectorizer\n",
    "from sklearn.metrics.pairwise import linear_kernel,cosine_similarity\n",
    "from sklearn.cluster import KMeans\n",
    "\n",
    "from pyspark.ml.recommendation import ALS\n",
    "from pyspark import SparkContext\n",
    "from pyspark.sql import SparkSession"
   ]
  },
  {
   "cell_type": "code",
   "execution_count": 25,
   "metadata": {},
   "outputs": [],
   "source": [
    "user = 'root'\n",
    "password = 'jenny3248'\n",
    "host = '127.0.0.1'\n",
    "db_name = 'steam'\n",
    "engine = create_engine(f'mysql+pymysql://{user}:{password}@{host}/{db_name}?charset=utf8mb4')"
   ]
  },
  {
   "cell_type": "code",
   "execution_count": 58,
   "metadata": {},
   "outputs": [],
   "source": [
    "df_game_description = pd.read_sql_query(\n",
    "    '''\n",
    "        SELECT \n",
    "            app_id, \n",
    "            short_description \n",
    "        FROM steam_app_details \n",
    "        WHERE short_description IS NOT NULL\n",
    "        AND type = \"game\" \n",
    "        AND name IS NOT NULL\n",
    "        AND release_date <= CURDATE() \n",
    "        AND initial_price IS NOT NULL\n",
    "    ''', engine)"
   ]
  },
  {
   "cell_type": "code",
   "execution_count": 59,
   "metadata": {},
   "outputs": [
    {
     "data": {
      "text/html": [
       "<div>\n",
       "<style scoped>\n",
       "    .dataframe tbody tr th:only-of-type {\n",
       "        vertical-align: middle;\n",
       "    }\n",
       "\n",
       "    .dataframe tbody tr th {\n",
       "        vertical-align: top;\n",
       "    }\n",
       "\n",
       "    .dataframe thead th {\n",
       "        text-align: right;\n",
       "    }\n",
       "</style>\n",
       "<table border=\"1\" class=\"dataframe\">\n",
       "  <thead>\n",
       "    <tr style=\"text-align: right;\">\n",
       "      <th></th>\n",
       "      <th>app_id</th>\n",
       "      <th>short_description</th>\n",
       "    </tr>\n",
       "  </thead>\n",
       "  <tbody>\n",
       "    <tr>\n",
       "      <th>0</th>\n",
       "      <td>1494550</td>\n",
       "      <td>You are in a post-apocalyptic world fighting h...</td>\n",
       "    </tr>\n",
       "    <tr>\n",
       "      <th>1</th>\n",
       "      <td>1493310</td>\n",
       "      <td>BRAVE HERO is a platformer where the player fa...</td>\n",
       "    </tr>\n",
       "    <tr>\n",
       "      <th>2</th>\n",
       "      <td>1493400</td>\n",
       "      <td>For collecting orbs, you are awarded points. T...</td>\n",
       "    </tr>\n",
       "    <tr>\n",
       "      <th>3</th>\n",
       "      <td>1493410</td>\n",
       "      <td>Race for big money while running away from the...</td>\n",
       "    </tr>\n",
       "    <tr>\n",
       "      <th>4</th>\n",
       "      <td>1492930</td>\n",
       "      <td>IMUGI is a point and click isometric puzzle ga...</td>\n",
       "    </tr>\n",
       "    <tr>\n",
       "      <th>...</th>\n",
       "      <td>...</td>\n",
       "      <td>...</td>\n",
       "    </tr>\n",
       "    <tr>\n",
       "      <th>42345</th>\n",
       "      <td>393190</td>\n",
       "      <td>TSIOQUE (pronounced: &amp;quot;chiock&amp;quot;) is a ...</td>\n",
       "    </tr>\n",
       "    <tr>\n",
       "      <th>42346</th>\n",
       "      <td>655340</td>\n",
       "      <td>Take command of an interstellar starship &amp;amp;...</td>\n",
       "    </tr>\n",
       "    <tr>\n",
       "      <th>42347</th>\n",
       "      <td>393200</td>\n",
       "      <td>Bad Rats Show is a physics puzzle game where t...</td>\n",
       "    </tr>\n",
       "    <tr>\n",
       "      <th>42348</th>\n",
       "      <td>1048560</td>\n",
       "      <td>Voidrun is a fast-paced bullet-hell arcade gam...</td>\n",
       "    </tr>\n",
       "    <tr>\n",
       "      <th>42349</th>\n",
       "      <td>364720</td>\n",
       "      <td>The year is 1986. Cold War leaders Ronald Reag...</td>\n",
       "    </tr>\n",
       "  </tbody>\n",
       "</table>\n",
       "<p>42350 rows × 2 columns</p>\n",
       "</div>"
      ],
      "text/plain": [
       "        app_id                                  short_description\n",
       "0      1494550  You are in a post-apocalyptic world fighting h...\n",
       "1      1493310  BRAVE HERO is a platformer where the player fa...\n",
       "2      1493400  For collecting orbs, you are awarded points. T...\n",
       "3      1493410  Race for big money while running away from the...\n",
       "4      1492930  IMUGI is a point and click isometric puzzle ga...\n",
       "...        ...                                                ...\n",
       "42345   393190  TSIOQUE (pronounced: &quot;chiock&quot;) is a ...\n",
       "42346   655340  Take command of an interstellar starship &amp;...\n",
       "42347   393200  Bad Rats Show is a physics puzzle game where t...\n",
       "42348  1048560  Voidrun is a fast-paced bullet-hell arcade gam...\n",
       "42349   364720  The year is 1986. Cold War leaders Ronald Reag...\n",
       "\n",
       "[42350 rows x 2 columns]"
      ]
     },
     "execution_count": 59,
     "metadata": {},
     "output_type": "execute_result"
    }
   ],
   "source": [
    "df_game_description"
   ]
  },
  {
   "cell_type": "code",
   "execution_count": 61,
   "metadata": {},
   "outputs": [],
   "source": [
    "tfidf = TfidfVectorizer(strip_accents='unicode',stop_words='english').fit_transform(df_game_description['short_description'].tolist())"
   ]
  },
  {
   "cell_type": "code",
   "execution_count": null,
   "metadata": {},
   "outputs": [],
   "source": []
  },
  {
   "cell_type": "code",
   "execution_count": null,
   "metadata": {},
   "outputs": [],
   "source": [
    "df_game_description = pd.read_sql_query(\n",
    "    '''\n",
    "        SELECT \n",
    "            app_id, \n",
    "            short_description \n",
    "        FROM steam_app_details \n",
    "        WHERE short_description IS NOT NULL\n",
    "        AND type = \"game\" \n",
    "        AND name IS NOT NULL\n",
    "        AND release_date <= CURDATE() \n",
    "        AND initial_price IS NOT NULL\n",
    "    ''', engine)\n",
    "\n",
    "tfidf = TfidfVectorizer(strip_accents='unicode',stop_words='english').fit_transform(df_game_description['short_description'].tolist())\n",
    "\n",
    "lst_app_id = df_game_description['app_id'].tolist()\n",
    "dic_recomended = {}\n",
    "for row_index in tqdm(range(tfidf.shape[0]), desc = 'Model 2: Content Based'):\n",
    "    cosine_similarities = linear_kernel(tfidf[row_index:row_index+1], tfidf).flatten()\n",
    "    top_related_rows = cosine_similarities.argsort()[-2:-22:-1]\n",
    "    dic_recomended.update({lst_app_id[row_index]:[lst_app_id[i] for i in top_related_rows]})\n",
    "\n",
    "\n",
    "df_content_based_results = pd.DataFrame.from_dict(dic_recomended, 'index')\n",
    "df_content_based_results.index.name = 'app_id'\n",
    "df_content_based_results.reset_index(inplace=True)\n",
    "df_content_based_results.to_sql('recommended_games_content_based',engine,if_exists='replace', index = False)"
   ]
  }
 ],
 "metadata": {
  "kernelspec": {
   "display_name": "Python 3",
   "language": "python",
   "name": "python3"
  },
  "language_info": {
   "codemirror_mode": {
    "name": "ipython",
    "version": 3
   },
   "file_extension": ".py",
   "mimetype": "text/x-python",
   "name": "python",
   "nbconvert_exporter": "python",
   "pygments_lexer": "ipython3",
   "version": "3.7.8"
  }
 },
 "nbformat": 4,
 "nbformat_minor": 4
}
