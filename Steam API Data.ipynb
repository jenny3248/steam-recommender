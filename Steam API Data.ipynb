{
 "cells": [
  {
   "cell_type": "code",
   "execution_count": null,
   "metadata": {},
   "outputs": [],
   "source": [
    "import pandas as pd\n",
    "import json\n",
    "import requests, time, datetime"
   ]
  },
  {
   "cell_type": "code",
   "execution_count": null,
   "metadata": {},
   "outputs": [],
   "source": [
    "user_lst = open(r'steam_user_id.txt')\n",
    "user_lst = user_lst.readlines()[::2]"
   ]
  },
  {
   "cell_type": "markdown",
   "metadata": {},
   "source": [
    "## Get User Data"
   ]
  },
  {
   "cell_type": "code",
   "execution_count": null,
   "metadata": {},
   "outputs": [],
   "source": [
    "start_time = time.time()\n",
    "\n",
    "api_key = '0930256E4596FEB25C73092F55A028FC'\n",
    "url = 'https://api.steampowered.com/IPlayerService/GetOwnedGames/v0001'\n",
    "current_count = 0\n",
    "path = 'data/user_data.txt'\n",
    "\n",
    "with open(path, 'w') as f:\n",
    "    for user_id in user_lst:\n",
    "        params = {\n",
    "            'key' : api_key,\n",
    "            'steamid' : user_id.strip(),\n",
    "            'include_appinfo' : 0, \n",
    "            'include_played_free_games' : 1,\n",
    "            'format' : 'json'\n",
    "        }\n",
    "        for i in range(3):\n",
    "            try: \n",
    "                r = requests.get(url, params)\n",
    "                result = r.json().get('response').get('games')\n",
    "                dict_temp = {}\n",
    "                dict_temp[user_id.strip()] = result\n",
    "                current_count = current_count+1\n",
    "                break\n",
    "            except Exception as e:\n",
    "                print(e)\n",
    "                time.sleep(5)\n",
    "        f.write(json.dumps(dict_temp))\n",
    "        f.write('\\n')\n",
    "        if current_count > 0 and current_count % 200 == 0:\n",
    "            print(current_count, datetime.now)\n",
    "            time.sleep(300)\n",
    "        else:\n",
    "            time.sleep(.5)\n",
    "            \n",
    "print('Completed')\n",
    "print('total time: ', start_time-time.time())"
   ]
  },
  {
   "cell_type": "markdown",
   "metadata": {},
   "source": [
    "## Get List of All Games"
   ]
  },
  {
   "cell_type": "code",
   "execution_count": null,
   "metadata": {
    "scrolled": true
   },
   "outputs": [],
   "source": [
    "url = 'https://api.steampowered.com/ISteamApps/GetAppList/v2/'\n",
    "r = requests.get(url)\n",
    "dic_app_list = r.json()\n",
    "lst_app_id = [i.get('appid') for i in dic_app_list.get('applist').get('apps')]\n",
    "len(lst_app_id)"
   ]
  },
  {
   "cell_type": "code",
   "execution_count": null,
   "metadata": {},
   "outputs": [],
   "source": [
    "with open('app_id.json', 'w') as f:\n",
    "    json.dump(lst_app_id, f)"
   ]
  },
  {
   "cell_type": "markdown",
   "metadata": {},
   "source": [
    "## Get Game Info"
   ]
  },
  {
   "cell_type": "code",
   "execution_count": null,
   "metadata": {},
   "outputs": [],
   "source": [
    "start_time = time.time()\n",
    "\n",
    "current_count = 0\n",
    "path = 'data/app_detail.txt'\n",
    "\n",
    "with open(path, 'w') as f:\n",
    "    for app_id in lst_app_id:\n",
    "        url = ('http://store.steampowered.com/api/appdetails?appids=%s') % (app_id)\n",
    "        for i in range(3):\n",
    "            try:\n",
    "                r = requests.get(url)\n",
    "                result = r.json()\n",
    "                current_count = current_count+1\n",
    "                break\n",
    "            except Exception as e:\n",
    "                print(e)\n",
    "                time.sleep(5)\n",
    "        f.write(json.dumps(result))\n",
    "        f.write('\\n')\n",
    "        if current_count > 0 and current_count % 200 == 0:\n",
    "            print(current_count, datetime.now)\n",
    "            time.sleep(300)\n",
    "        else:\n",
    "            time.sleep(.5)\n",
    "            \n",
    "print('Completed')\n",
    "print('total time: ', start_time-time.time())"
   ]
  }
 ],
 "metadata": {
  "kernelspec": {
   "display_name": "Python 3",
   "language": "python",
   "name": "python3"
  },
  "language_info": {
   "codemirror_mode": {
    "name": "ipython",
    "version": 3
   },
   "file_extension": ".py",
   "mimetype": "text/x-python",
   "name": "python",
   "nbconvert_exporter": "python",
   "pygments_lexer": "ipython3",
   "version": "3.7.8"
  }
 },
 "nbformat": 4,
 "nbformat_minor": 4
}
