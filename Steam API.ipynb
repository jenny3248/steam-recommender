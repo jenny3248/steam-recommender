{
 "cells": [
  {
   "cell_type": "code",
   "execution_count": 1,
   "metadata": {},
   "outputs": [],
   "source": [
    "import pandas as pd\n",
    "import json\n",
    "import requests, time, datetime"
   ]
  },
  {
   "cell_type": "code",
   "execution_count": 2,
   "metadata": {},
   "outputs": [],
   "source": [
    "user_lst = open(r'steam_user_id.txt')\n",
    "user_lst = user_lst.readlines()[::2]"
   ]
  },
  {
   "cell_type": "markdown",
   "metadata": {},
   "source": [
    "## Get user data"
   ]
  },
  {
   "cell_type": "code",
   "execution_count": 3,
   "metadata": {},
   "outputs": [
    {
     "name": "stdout",
     "output_type": "stream",
     "text": [
      "200\n",
      "138.00812220573425\n",
      "1609198592.633902\n",
      "400\n",
      "578.2008490562439\n",
      "1609199032.8266392\n",
      "600\n",
      "1015.9582688808441\n",
      "1609199470.584089\n",
      "800\n",
      "1458.9731221199036\n",
      "1609199913.598916\n",
      "1000\n",
      "1897.3162832260132\n",
      "1609200351.942055\n",
      "1200\n",
      "2338.3198330402374\n",
      "1609200792.9456131\n",
      "1400\n",
      "2773.325138092041\n",
      "1609201227.950912\n",
      "1600\n",
      "3211.741490840912\n",
      "1609201666.367262\n",
      "1800\n",
      "3647.5358741283417\n",
      "1609202102.161644\n",
      "2000\n",
      "4094.9347472190857\n",
      "1609202549.56053\n",
      "2200\n",
      "4538.348268985748\n",
      "1609202992.974045\n",
      "2400\n",
      "4977.676189899445\n",
      "1609203432.301961\n",
      "2600\n",
      "5417.335730075836\n",
      "1609203871.961501\n",
      "2800\n",
      "5854.061010122299\n",
      "1609204308.686795\n",
      "3000\n",
      "6288.7396919727325\n",
      "1609204743.365464\n",
      "3200\n",
      "6723.472804069519\n",
      "1609205178.098594\n",
      "3400\n",
      "7159.570748090744\n",
      "1609205614.1971688\n",
      "3600\n",
      "7593.833362817764\n",
      "1609206048.4591382\n",
      "3800\n",
      "8026.791123867035\n",
      "1609206481.416909\n",
      "4000\n",
      "8462.325862169266\n",
      "1609206916.951634\n",
      "4200\n",
      "8898.778223991394\n",
      "1609207353.40401\n",
      "4400\n",
      "9337.083986997604\n",
      "1609207791.709774\n",
      "4600\n",
      "9778.912111997604\n",
      "1609208233.53867\n",
      "4800\n",
      "10261.68477010727\n",
      "1609208716.3105721\n",
      "5000\n",
      "10695.650521993637\n",
      "1609209150.276305\n",
      "finished\n",
      "total time:  1609209450.3123682\n"
     ]
    }
   ],
   "source": [
    "start_time = time.time()\n",
    "\n",
    "api_key = '0930256E4596FEB25C73092F55A028FC'\n",
    "url = 'https://api.steampowered.com/IPlayerService/GetOwnedGames/v0001'\n",
    "current_count = 0\n",
    "path = 'data/user_data.txt'\n",
    "\n",
    "user_data = {}\n",
    "\n",
    "with open(path, 'w') as f:\n",
    "    for user_id in user_lst:\n",
    "        params = {\n",
    "            'key' : api_key,\n",
    "            'steamid' : user_id.strip(),\n",
    "            'include_appinfo' : 0, \n",
    "            'include_played_free_games' : 1,\n",
    "            'format' : 'json'\n",
    "        }\n",
    "        for i in range(3):\n",
    "            try: \n",
    "                r = requests.get(url, params)\n",
    "                result = r.json().get('response').get('games')\n",
    "                dict_temp = {}\n",
    "                dict_temp[user_id.strip()] = result\n",
    "                current_count = current_count+1\n",
    "                break\n",
    "            except Exception as e:\n",
    "                print(e)\n",
    "                time.sleep(5)\n",
    "        f.write(json.dumps(dict_temp))\n",
    "        f.write('\\n')\n",
    "        if current_count > 0 and current_count % 200 == 0:\n",
    "            print(current_count)\n",
    "            print(time.time()-start_time)\n",
    "            print(time.time())\n",
    "            time.sleep(300)\n",
    "        else:\n",
    "            time.sleep(.5)\n",
    "\n",
    "print('finished')\n",
    "print('total time: ', time.time())"
   ]
  },
  {
   "cell_type": "code",
   "execution_count": 4,
   "metadata": {},
   "outputs": [],
   "source": []
  },
  {
   "cell_type": "code",
   "execution_count": 6,
   "metadata": {},
   "outputs": [
    {
     "data": {
      "text/plain": [
       "235600"
      ]
     },
     "execution_count": 6,
     "metadata": {},
     "output_type": "execute_result"
    }
   ],
   "source": [
    "len(dict_owned_games)"
   ]
  },
  {
   "cell_type": "code",
   "execution_count": 7,
   "metadata": {},
   "outputs": [],
   "source": [
    "a = pd.DataFrame.from_dict(dict_owned_games, 'index')"
   ]
  },
  {
   "cell_type": "code",
   "execution_count": 8,
   "metadata": {},
   "outputs": [
    {
     "data": {
      "text/html": [
       "<div>\n",
       "<style scoped>\n",
       "    .dataframe tbody tr th:only-of-type {\n",
       "        vertical-align: middle;\n",
       "    }\n",
       "\n",
       "    .dataframe tbody tr th {\n",
       "        vertical-align: top;\n",
       "    }\n",
       "\n",
       "    .dataframe thead th {\n",
       "        text-align: right;\n",
       "    }\n",
       "</style>\n",
       "<table border=\"1\" class=\"dataframe\">\n",
       "  <thead>\n",
       "    <tr style=\"text-align: right;\">\n",
       "      <th></th>\n",
       "      <th></th>\n",
       "      <th>user_id</th>\n",
       "      <th>app_id</th>\n",
       "      <th>playtime_forever</th>\n",
       "    </tr>\n",
       "  </thead>\n",
       "  <tbody>\n",
       "    <tr>\n",
       "      <th rowspan=\"5\" valign=\"top\">76561198074188133</th>\n",
       "      <th>4000</th>\n",
       "      <td>76561198074188133</td>\n",
       "      <td>4000</td>\n",
       "      <td>3415</td>\n",
       "    </tr>\n",
       "    <tr>\n",
       "      <th>34030</th>\n",
       "      <td>76561198074188133</td>\n",
       "      <td>34030</td>\n",
       "      <td>16526</td>\n",
       "    </tr>\n",
       "    <tr>\n",
       "      <th>42680</th>\n",
       "      <td>76561198074188133</td>\n",
       "      <td>42680</td>\n",
       "      <td>4631</td>\n",
       "    </tr>\n",
       "    <tr>\n",
       "      <th>42690</th>\n",
       "      <td>76561198074188133</td>\n",
       "      <td>42690</td>\n",
       "      <td>11055</td>\n",
       "    </tr>\n",
       "    <tr>\n",
       "      <th>207610</th>\n",
       "      <td>76561198074188133</td>\n",
       "      <td>207610</td>\n",
       "      <td>126</td>\n",
       "    </tr>\n",
       "    <tr>\n",
       "      <th>...</th>\n",
       "      <th>...</th>\n",
       "      <td>...</td>\n",
       "      <td>...</td>\n",
       "      <td>...</td>\n",
       "    </tr>\n",
       "    <tr>\n",
       "      <th rowspan=\"5\" valign=\"top\">76561198162029433</th>\n",
       "      <th>204300</th>\n",
       "      <td>76561198162029433</td>\n",
       "      <td>204300</td>\n",
       "      <td>4</td>\n",
       "    </tr>\n",
       "    <tr>\n",
       "      <th>554620</th>\n",
       "      <td>76561198162029433</td>\n",
       "      <td>554620</td>\n",
       "      <td>390</td>\n",
       "    </tr>\n",
       "    <tr>\n",
       "      <th>433850</th>\n",
       "      <td>76561198162029433</td>\n",
       "      <td>433850</td>\n",
       "      <td>121</td>\n",
       "    </tr>\n",
       "    <tr>\n",
       "      <th>611500</th>\n",
       "      <td>76561198162029433</td>\n",
       "      <td>611500</td>\n",
       "      <td>20</td>\n",
       "    </tr>\n",
       "    <tr>\n",
       "      <th>570</th>\n",
       "      <td>76561198162029433</td>\n",
       "      <td>570</td>\n",
       "      <td>77392</td>\n",
       "    </tr>\n",
       "  </tbody>\n",
       "</table>\n",
       "<p>235600 rows × 3 columns</p>\n",
       "</div>"
      ],
      "text/plain": [
       "                                    user_id  app_id  playtime_forever\n",
       "76561198074188133 4000    76561198074188133    4000              3415\n",
       "                  34030   76561198074188133   34030             16526\n",
       "                  42680   76561198074188133   42680              4631\n",
       "                  42690   76561198074188133   42690             11055\n",
       "                  207610  76561198074188133  207610               126\n",
       "...                                     ...     ...               ...\n",
       "76561198162029433 204300  76561198162029433  204300                 4\n",
       "                  554620  76561198162029433  554620               390\n",
       "                  433850  76561198162029433  433850               121\n",
       "                  611500  76561198162029433  611500                20\n",
       "                  570     76561198162029433     570             77392\n",
       "\n",
       "[235600 rows x 3 columns]"
      ]
     },
     "execution_count": 8,
     "metadata": {},
     "output_type": "execute_result"
    }
   ],
   "source": [
    "a"
   ]
  },
  {
   "cell_type": "code",
   "execution_count": 9,
   "metadata": {},
   "outputs": [
    {
     "ename": "NameError",
     "evalue": "name 'create_engine' is not defined",
     "output_type": "error",
     "traceback": [
      "\u001b[0;31m---------------------------------------------------------------------------\u001b[0m",
      "\u001b[0;31mNameError\u001b[0m                                 Traceback (most recent call last)",
      "\u001b[0;32m<ipython-input-9-110527636f29>\u001b[0m in \u001b[0;36m<module>\u001b[0;34m\u001b[0m\n\u001b[1;32m      3\u001b[0m \u001b[0mhost\u001b[0m \u001b[0;34m=\u001b[0m \u001b[0;34m'127.0.0.1'\u001b[0m\u001b[0;34m\u001b[0m\u001b[0;34m\u001b[0m\u001b[0m\n\u001b[1;32m      4\u001b[0m \u001b[0mdb_name\u001b[0m \u001b[0;34m=\u001b[0m \u001b[0;34m'steam'\u001b[0m\u001b[0;34m\u001b[0m\u001b[0;34m\u001b[0m\u001b[0m\n\u001b[0;32m----> 5\u001b[0;31m \u001b[0mengine\u001b[0m \u001b[0;34m=\u001b[0m \u001b[0mcreate_engine\u001b[0m\u001b[0;34m(\u001b[0m\u001b[0;34mf'mysql+pymysql://{user}:{password}@{host}/{db_name}?charset=utf8mb4'\u001b[0m\u001b[0;34m)\u001b[0m\u001b[0;34m\u001b[0m\u001b[0;34m\u001b[0m\u001b[0m\n\u001b[0m",
      "\u001b[0;31mNameError\u001b[0m: name 'create_engine' is not defined"
     ]
    }
   ],
   "source": [
    "user = 'root'\n",
    "password = 'jenny3248'\n",
    "host = '127.0.0.1'\n",
    "db_name = 'steam'\n",
    "engine = create_engine(f'mysql+pymysql://{user}:{password}@{host}/{db_name}?charset=utf8mb4')"
   ]
  },
  {
   "cell_type": "code",
   "execution_count": null,
   "metadata": {},
   "outputs": [],
   "source": [
    "df_owned_games.to_sql(\n",
    "        'steam_owned_games', \n",
    "        engine, \n",
    "        if_exists='replace', \n",
    "        index=False, \n",
    "        dtype={\n",
    "            'user_id': BigInteger(),\n",
    "            'app_id': Integer(),\n",
    "            'playtime_forever': Integer()\n",
    "        }, \n",
    "        chunksize = 10000\n",
    "    )"
   ]
  },
  {
   "cell_type": "markdown",
   "metadata": {},
   "source": [
    "## Get game list"
   ]
  },
  {
   "cell_type": "code",
   "execution_count": null,
   "metadata": {
    "scrolled": true
   },
   "outputs": [],
   "source": [
    "url = 'https://api.steampowered.com/ISteamApps/GetAppList/v2/'\n",
    "r = requests.get(url)\n",
    "dic_app_list = r.json()\n",
    "lst_app_id = [i.get('appid') for i in dic_app_list.get('applist').get('apps')]\n",
    "len(lst_app_id)"
   ]
  },
  {
   "cell_type": "code",
   "execution_count": null,
   "metadata": {},
   "outputs": [],
   "source": [
    "with open('app_id.json', 'w') as f:\n",
    "    json.dump(lst_app_id, f)"
   ]
  },
  {
   "cell_type": "code",
   "execution_count": null,
   "metadata": {},
   "outputs": [],
   "source": [
    "lst_app_id = open('app_id.json').readlines()\n",
    "lst_app_id = json.loads(lst_app_id[0])"
   ]
  },
  {
   "cell_type": "markdown",
   "metadata": {},
   "source": [
    "## Get game info"
   ]
  },
  {
   "cell_type": "code",
   "execution_count": null,
   "metadata": {},
   "outputs": [],
   "source": [
    "current_count = 0\n",
    "path = 'data/app_detail.txt'\n",
    "with open(path, 'a') as f:\n",
    "    for app_id in lst_app_id:\n",
    "        url = ('http://store.steampowered.com/api/appdetails?appids=%s') % (app_id)\n",
    "        for i in range(3):\n",
    "            try:\n",
    "                r = requests.get(url)\n",
    "                result = r.json()\n",
    "                current_count = current_count+1\n",
    "                break\n",
    "            except Exception as e:\n",
    "                time.sleep(5)\n",
    "        f.write(json.dumps(result))\n",
    "        f.write('\\n')\n",
    "        if current_count > 0 and current_count % 200 == 0:\n",
    "            time.sleep(300)\n",
    "        else:\n",
    "            time.sleep(.5)"
   ]
  }
 ],
 "metadata": {
  "kernelspec": {
   "display_name": "Python 3",
   "language": "python",
   "name": "python3"
  },
  "language_info": {
   "codemirror_mode": {
    "name": "ipython",
    "version": 3
   },
   "file_extension": ".py",
   "mimetype": "text/x-python",
   "name": "python",
   "nbconvert_exporter": "python",
   "pygments_lexer": "ipython3",
   "version": "3.7.8"
  }
 },
 "nbformat": 4,
 "nbformat_minor": 4
}
