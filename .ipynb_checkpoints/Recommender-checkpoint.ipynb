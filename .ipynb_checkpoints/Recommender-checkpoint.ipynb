{
 "cells": [
  {
   "cell_type": "code",
   "execution_count": 1,
   "metadata": {},
   "outputs": [],
   "source": [
    "import requests, re, os\n",
    "import pandas as pd\n",
    "import numpy as np\n",
    "import yaml\n",
    "\n",
    "from bs4 import BeautifulSoup\n",
    "from sqlalchemy import create_engine\n",
    "\n",
    "from sklearn.feature_extraction.text import TfidfVectorizer\n",
    "from sklearn.metrics.pairwise import linear_kernel,cosine_similarity\n",
    "from sklearn.cluster import KMeans\n",
    "\n",
    "from pyspark.ml.recommendation import ALS\n",
    "from pyspark import SparkContext\n",
    "from pyspark.sql import SparkSession"
   ]
  },
  {
   "cell_type": "code",
   "execution_count": 2,
   "metadata": {},
   "outputs": [],
   "source": [
    "user = 'root'\n",
    "password = 'jenny3248'\n",
    "host = '127.0.0.1'\n",
    "db_name = 'steam'\n",
    "engine = create_engine(f'mysql+pymysql://{user}:{password}@{host}/{db_name}?charset=utf8mb4')"
   ]
  },
  {
   "cell_type": "markdown",
   "metadata": {},
   "source": [
    "## Popularity Based"
   ]
  },
  {
   "cell_type": "code",
   "execution_count": 4,
   "metadata": {},
   "outputs": [],
   "source": [
    "url = 'https://store.steampowered.com/stats'\n",
    "r = requests.get(url)\n",
    "soup = BeautifulSoup(r.text, 'lxml')\n",
    "\n",
    "dict_popularity_rec = {}\n",
    "\n",
    "# located in div \"Top games by current player count\"\n",
    "for i in soup.find('div', {'id':'detailStats'}).find_all('tr', {'class':'player_count_row'}):\n",
    "    data = i.find_all('td')\n",
    "    # number of current players\n",
    "    curr_player = int(data[0].span.string.replace(',',''))\n",
    "    # peak number of players today\n",
    "    peak_today = int(data[1].span.string.replace(',',''))\n",
    "    # last td is link to game\n",
    "    app_id = re.findall(r'(\\d+)', data[-1].a.get('href'))[0]\n",
    "    dict_popularity_rec[app_id] = {'current_player' : curr_player, 'peak_today' : peak_today}\n",
    "\n",
    "df_popularity_rec = pd.DataFrame.from_dict(dict_popularity_rec, 'index')\n",
    "df_popularity_rec.index.name = 'app_id'\n",
    "df_popularity_rec.reset_index(inplace=True)\n",
    "df_popularity_rec.to_sql('popularity_recommendation', engine, if_exists='replace', index = False)"
   ]
  },
  {
   "cell_type": "markdown",
   "metadata": {},
   "source": [
    "## Content Based"
   ]
  },
  {
   "cell_type": "code",
   "execution_count": null,
   "metadata": {},
   "outputs": [],
   "source": [
    "# https://stackoverflow.com/questions/12118720/python-tf-idf-cosine-to-find-document-similarity\n",
    "df_game_descr = pd.read_sql_query(\n",
    "    '''\n",
    "        SELECT \n",
    "            app_id, \n",
    "            short_description \n",
    "        FROM steam_app_details \n",
    "        WHERE short_description IS NOT NULL\n",
    "        AND type = \"game\" \n",
    "        AND name IS NOT NULL\n",
    "        AND release_date <= CURDATE() \n",
    "        AND initial_price IS NOT NULL\n",
    "    ''', engine)\n",
    "\n",
    "tfidf = TfidfVectorizer(strip_accents='unicode', stop_words='english').fit_transform(df_game_descr['short_description'].tolist())\n",
    "app_ids = df_game_descr['app_id'].tolist()\n",
    "dict_content_rec = {}\n",
    "\n",
    "for row_index in range(tfidf.shape[0]):\n",
    "    cosine_similarities = linear_kernel(tfidf[row_index:row_index+1], tfidf).flatten()\n",
    "    # indices of top 100 most similar games\n",
    "    related_games = cosine_similarities.argsort()[-2:-102:-1]\n",
    "    dict_content_rec.update({app_ids[row_index]:[app_ids[i] for i in related_games]})\n",
    "\n",
    "df_content_rec = pd.DataFrame.from_dict(dict_content_rec, 'index')\n",
    "df_content_rec.index.name = 'app_id'\n",
    "df_content_rec.reset_index(inplace=True)\n",
    "df_content_rec.to_sql('recommended_games_content_based',engine,if_exists='replace', chunksize = 1000, index = False)"
   ]
  },
  {
   "cell_type": "markdown",
   "metadata": {},
   "source": [
    "## Item Based"
   ]
  },
  {
   "cell_type": "code",
   "execution_count": 8,
   "metadata": {},
   "outputs": [
    {
     "ename": "NameError",
     "evalue": "name 'engine' is not defined",
     "output_type": "error",
     "traceback": [
      "\u001b[0;31m-------------------------------------------------------------------------\u001b[0m",
      "\u001b[0;31mNameError\u001b[0m                               Traceback (most recent call last)",
      "\u001b[0;32m<ipython-input-8-4e2859a1fa14>\u001b[0m in \u001b[0;36m<module>\u001b[0;34m\u001b[0m\n\u001b[1;32m      4\u001b[0m     \u001b[0mFROM\u001b[0m \u001b[0msteam_owned_games\u001b[0m\u001b[0;34m\u001b[0m\u001b[0;34m\u001b[0m\u001b[0m\n\u001b[1;32m      5\u001b[0m     \u001b[0mWHERE\u001b[0m \u001b[0mplaytime_forever\u001b[0m \u001b[0;34m>\u001b[0m \u001b[0;36m15\u001b[0m\u001b[0;34m\u001b[0m\u001b[0;34m\u001b[0m\u001b[0m\n\u001b[0;32m----> 6\u001b[0;31m     ''', engine).pivot_table(values = 'user_id', index = ['app_id'], columns = ['user_id'], aggfunc = len, fill_value = 0)\n\u001b[0m\u001b[1;32m      7\u001b[0m \u001b[0;34m\u001b[0m\u001b[0m\n\u001b[1;32m      8\u001b[0m \u001b[0mpurchase_matrix\u001b[0m \u001b[0;34m=\u001b[0m \u001b[0mdf_purchase\u001b[0m\u001b[0;34m.\u001b[0m\u001b[0mvalues\u001b[0m\u001b[0;34m\u001b[0m\u001b[0;34m\u001b[0m\u001b[0m\n",
      "\u001b[0;31mNameError\u001b[0m: name 'engine' is not defined"
     ]
    }
   ],
   "source": [
    "df_purchase = pd.read_sql_query(\n",
    "    '''\n",
    "    SELECT app_id, user_id         \n",
    "    FROM steam_owned_games\n",
    "    WHERE playtime_forever > 15\n",
    "    ''', engine).pivot_table(values = 'user_id', index = ['app_id'], columns = ['user_id'], aggfunc = len, fill_value = 0)\n",
    "\n",
    "purchase_matrix = df_purchase.values\n",
    "app_ids = df_purchase.index\n",
    "dict_item_rec = {}\n",
    "\n",
    "for index in range(purchase_matrix.shape[0]):\n",
    "    cosine_similarities = linear_kernel(purchase_matrix[index:index+1], purchase_matrix).flatten()\n",
    "    related_purchases = np.argsort(-cosine_similarities)[1:101]\n",
    "    dict_item_rec.update({app_ids[index]:[app_ids[i] for i in related_purchases]})\n",
    "\n",
    "df_item_based_result = pd.DataFrame.from_dict(dict_item_rec, 'index')\n",
    "df_item_based_result.index.name = 'app_id'\n",
    "df_item_based_result.reset_index(inplace=True)\n",
    "df_item_based_result.to_sql('recommended_games_item_based', engine, if_exists='replace', chunksize = 1000, index = False)"
   ]
  }
 ],
 "metadata": {
  "kernelspec": {
   "display_name": "Python 3",
   "language": "python",
   "name": "python3"
  },
  "language_info": {
   "codemirror_mode": {
    "name": "ipython",
    "version": 3
   },
   "file_extension": ".py",
   "mimetype": "text/x-python",
   "name": "python",
   "nbconvert_exporter": "python",
   "pygments_lexer": "ipython3",
   "version": "3.7.8"
  }
 },
 "nbformat": 4,
 "nbformat_minor": 4
}
