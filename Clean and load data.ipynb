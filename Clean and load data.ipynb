{
 "cells": [
  {
   "cell_type": "code",
   "execution_count": null,
   "metadata": {},
   "outputs": [],
   "source": [
    "import pandas as pd\n",
    "import seaborn as sns\n",
    "from datetime import datetime\n",
    "\n",
    "from sqlalchemy import *\n",
    "import json\n",
    "\n",
    "import os\n",
    "from dotenv import load_dotenv\n",
    "load_dotenv()"
   ]
  },
  {
   "cell_type": "markdown",
   "metadata": {},
   "source": [
    "## Load owned games into MySQL"
   ]
  },
  {
   "cell_type": "code",
   "execution_count": null,
   "metadata": {},
   "outputs": [],
   "source": [
    "dict_owned_games = {}\n",
    "with open('data/user_data.txt', 'r') as f:\n",
    "    for raw_string in f.readlines(): \n",
    "        user_id, lst_inventory = list(json.loads(raw_string).items())[0]\n",
    "        if lst_inventory:\n",
    "            for i in lst_inventory:\n",
    "                app_id = i.get('appid')\n",
    "                playtime_forever = i.get('playtime_forever', 0)\n",
    "                if playtime_forever > 0:\n",
    "                    dict_owned_games.update({\n",
    "                        user_id : {\n",
    "                            'app_id' : app_id,\n",
    "                            'playtime_forever' : playtime_forever\n",
    "                        }\n",
    "                    })"
   ]
  },
  {
   "cell_type": "code",
   "execution_count": null,
   "metadata": {},
   "outputs": [],
   "source": [
    "df_owned_games = pd.DataFrame.from_dict(dict_owned_games, orient='index')\n",
    "df_owned_games = df_owned_games.reset_index().rename({'index':'user_id'}, axis=1)\n",
    "df_owned_games"
   ]
  },
  {
   "cell_type": "code",
   "execution_count": null,
   "metadata": {},
   "outputs": [],
   "source": [
    "df_owned_games.to_sql(\n",
    "        'steam_owned_games', \n",
    "        engine, \n",
    "        if_exists='replace', \n",
    "        index=False, \n",
    "        dtype={\n",
    "            'user_id': BigInteger(),\n",
    "            'app_id': Integer(),\n",
    "            'playtime_forever': Integer()\n",
    "        }, \n",
    "        chunksize = 10000\n",
    "    )"
   ]
  },
  {
   "cell_type": "markdown",
   "metadata": {},
   "source": [
    "## Clean app details"
   ]
  },
  {
   "cell_type": "code",
   "execution_count": null,
   "metadata": {},
   "outputs": [],
   "source": [
    "def parse_steam_app_details(app_data):\n",
    "    app_type = app_data.get('type')\n",
    "    name = app_data.get('name')\n",
    "    required_age = app_data.get('required_age')\n",
    "    if app_data.get('is_free') == True:\n",
    "        initial_price = 0\n",
    "        currency = 'USD'\n",
    "    else:\n",
    "        if app_data.get('price_overview',{}):\n",
    "            initial_price = app_data.get('price_overview',{}).get('initial', 0) / 100\n",
    "            currency = app_data.get('price_overview',{}).get('currency')\n",
    "        else:\n",
    "            initial_price = None\n",
    "            currency = None\n",
    "    short_description = app_data.get('short_description')\n",
    "    if not short_description:\n",
    "        short_description = None\n",
    "    header_image = app_data.get('header_image')\n",
    "    supported_languages = app_data.get('supported_languages')\n",
    "    if supported_languages:\n",
    "        supported_languages = supported_languages.replace('<strong>*</strong>', '').replace('<br>languages with full audio support','')   \n",
    "    developers = ', '.join(app_data.get('developers', []))\n",
    "    if not developers:\n",
    "        developers = None\n",
    "    publishers = ', '.join(app_data.get('publishers', []))\n",
    "    if not publishers:\n",
    "        publishers = None\n",
    "    fullgame = app_data.get('fullgame',{}).get('appid')\n",
    "    lst_categories = app_data.get('categories',[])\n",
    "    if lst_categories:\n",
    "        categories = ', '.join([i.get('description') for i in lst_categories])\n",
    "    else:\n",
    "        categories = None\n",
    "    lst_genres = app_data.get('genres',[])\n",
    "    if lst_genres:\n",
    "        genres = ', '.join([i.get('description') for i in lst_genres])\n",
    "    else:\n",
    "        genres = None\n",
    "    if app_data.get('release_date',{}).get('coming_soon') == False:\n",
    "        release_date = app_data.get('release_date',{}).get('date')\n",
    "        #print(release_date)\n",
    "        if release_date:\n",
    "            try:\n",
    "                release_date = datetime.strptime(release_date, '%b %d, %Y').date()\n",
    "            except Exception as e:\n",
    "                try:\n",
    "                    release_date = datetime.strptime(release_date, '%d %b, %Y').date()\n",
    "                except:\n",
    "                    try:\n",
    "                        release_date = datetime.strptime(release_date, '%b %Y').date()\n",
    "                    except:\n",
    "                        release_date = None\n",
    "        else:\n",
    "            release_date = None\n",
    "    else:\n",
    "        release_date = None\n",
    "\n",
    "    dic_steam_app = {\n",
    "        'name' : name,\n",
    "        'type' : app_type,\n",
    "        'release_date' : release_date,\n",
    "        'currency' : currency,\n",
    "        'initial_price' : initial_price,\n",
    "        'short_description' : short_description,\n",
    "        'header_image' : header_image,\n",
    "        'fullgame' : fullgame,\n",
    "        'developers' : developers,\n",
    "        'publishers' : publishers,\n",
    "        'required_age' : required_age,\n",
    "        'supported_languages' : supported_languages,\n",
    "        'categories' : categories,\n",
    "        'genres' : genres,\n",
    "    }\n",
    "\n",
    "    return dic_steam_app"
   ]
  },
  {
   "cell_type": "code",
   "execution_count": null,
   "metadata": {
    "scrolled": true
   },
   "outputs": [],
   "source": [
    "dic_app_details = {}\n",
    "with open('data/app_detail.txt', 'r') as f:\n",
    "    for i in f.readlines():\n",
    "        # catch empty lines\n",
    "        try:\n",
    "            for app_id, dic_response in json.loads(i).items():\n",
    "                if dic_response.get('success'):\n",
    "                    dic_app_details[app_id] = parse_steam_app_details(dic_response.get('data',{}))\n",
    "        except:\n",
    "            pass"
   ]
  },
  {
   "cell_type": "code",
   "execution_count": null,
   "metadata": {},
   "outputs": [],
   "source": [
    "df_steam_app = pd.DataFrame.from_dict(dic_app_details, 'index')\n",
    "df_steam_app.index.name = 'app_id'\n",
    "df_steam_app.reset_index(inplace=True)\n",
    "df_steam_app.head()"
   ]
  },
  {
   "cell_type": "markdown",
   "metadata": {},
   "source": [
    "## Load app details into MySQL"
   ]
  },
  {
   "cell_type": "code",
   "execution_count": null,
   "metadata": {},
   "outputs": [],
   "source": [
    "user = os.getenv('DB_USER')\n",
    "password = os.getenv('DB_PASS')\n",
    "host = os.getenv('DB_HOST')\n",
    "db_name = os.getenv('DATABASE')\n",
    "engine = create_engine(f'mysql+pymysql://{user}:{password}@{host}/{db_name}?charset=utf8mb4')"
   ]
  },
  {
   "cell_type": "code",
   "execution_count": null,
   "metadata": {},
   "outputs": [],
   "source": [
    "df_steam_app.to_sql(\n",
    "    'steam_app_details', \n",
    "    engine, \n",
    "    if_exists='replace', \n",
    "    index=False, \n",
    "    chunksize = 10000, \n",
    "    dtype={'app_id':Integer(), 'required_age':Integer()})"
   ]
  }
 ],
 "metadata": {
  "kernelspec": {
   "display_name": "Python 3",
   "language": "python",
   "name": "python3"
  },
  "language_info": {
   "codemirror_mode": {
    "name": "ipython",
    "version": 3
   },
   "file_extension": ".py",
   "mimetype": "text/x-python",
   "name": "python",
   "nbconvert_exporter": "python",
   "pygments_lexer": "ipython3",
   "version": "3.7.8"
  }
 },
 "nbformat": 4,
 "nbformat_minor": 4
}
